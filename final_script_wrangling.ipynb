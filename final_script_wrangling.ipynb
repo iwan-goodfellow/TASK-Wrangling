{
 "cells": [
  {
   "cell_type": "markdown",
   "id": "851d77c2",
   "metadata": {},
   "source": [
    "## Import library "
   ]
  },
  {
   "cell_type": "code",
   "execution_count": 1,
   "id": "2d91dac1",
   "metadata": {},
   "outputs": [
    {
     "name": "stderr",
     "output_type": "stream",
     "text": [
      "c:\\Users\\backe\\miniconda3\\envs\\env_ridwan_1\\lib\\site-packages\\pandas\\core\\arrays\\masked.py:60: UserWarning: Pandas requires version '1.3.6' or newer of 'bottleneck' (version '1.3.5' currently installed).\n",
      "  from pandas.core import (\n"
     ]
    }
   ],
   "source": [
    "import pandas as pd\n",
    "import numpy as np\n",
    "import warnings\n",
    "warnings.filterwarnings('ignore')\n",
    "\n",
    "pd.set_option('display.max_columns', None)\n",
    "pd.set_option('display.max_rows', None)"
   ]
  },
  {
   "cell_type": "markdown",
   "id": "77f33977",
   "metadata": {},
   "source": [
    "## Data Lineage\n",
    "### Central Tables\n",
    "- `olist_orders_dataset` (order_id)\n",
    "  - Terhubung ke:\n",
    "    - `olist_order_items_dataset` (order_id, seller_id)\n",
    "    - `olist_order_payments_dataset` (order_id)\n",
    "    - `olist_order_reviews_dataset` (order_id)\n",
    "  - Terhubung dari:\n",
    "    - `olist_order_customer_dataset` (customer_id)\n",
    "\n",
    "### Hubungan Utama\n",
    "1. `olist_order_items_dataset` \n",
    "   - Menghubungkan:\n",
    "     - `olist_products_dataset` (product_id)\n",
    "     - `olist_sellers_dataset` (seller_id)\n",
    "\n",
    "2. `olist_order_customer_dataset` \n",
    "   - Menghubungkan ke:\n",
    "     - `olist_geolocation_dataset` (zip_code_prefix)\n"
   ]
  },
  {
   "cell_type": "markdown",
   "id": "3ff04d62",
   "metadata": {},
   "source": [
    "## Import dataset"
   ]
  },
  {
   "cell_type": "code",
   "execution_count": null,
   "id": "07525297",
   "metadata": {},
   "outputs": [],
   "source": [
    "# Disini saya hanya mengambil 6 data saja\n",
    "orders = pd.read_csv(r'D:\\bangunindo-class\\TASK-Wrangling\\data\\olist_orders_dataset.csv')\n",
    "order_items = pd.read_csv(r'D:\\bangunindo-class\\TASK-Wrangling\\data\\olist_order_items_dataset.csv')\n",
    "payments = pd.read_csv(r'D:\\bangunindo-class\\TASK-Wrangling\\data\\olist_order_payments_dataset.csv')\n",
    "reviews = pd.read_csv(r'D:\\bangunindo-class\\TASK-Wrangling\\data\\olist_order_reviews_dataset.csv')\n",
    "customers = pd.read_csv(r'D:\\bangunindo-class\\TASK-Wrangling\\data\\olist_customers_dataset.csv')\n",
    "products = pd.read_csv(r'D:\\bangunindo-class\\TASK-Wrangling\\data\\olist_products_dataset.csv')"
   ]
  },
  {
   "cell_type": "markdown",
   "id": "14e177cd",
   "metadata": {},
   "source": [
    "## Data integration (Merging all data)"
   ]
  },
  {
   "cell_type": "code",
   "execution_count": null,
   "id": "eccf3875",
   "metadata": {},
   "outputs": [],
   "source": [
    "df = orders.merge(order_items, on='order_id', how='left') \\\n",
    "           .merge(payments, on='order_id', how='left') \\\n",
    "           .merge(reviews, on='order_id', how='left') \\\n",
    "           .merge(customers, on='customer_id', how='left') \\\n",
    "           .merge(products[['product_id', 'product_category_name']], on='product_id', how='left')"
   ]
  },
  {
   "cell_type": "code",
   "execution_count": 4,
   "id": "9a46c82f",
   "metadata": {},
   "outputs": [
    {
     "data": {
      "application/vnd.microsoft.datawrangler.viewer.v0+json": {
       "columns": [
        {
         "name": "index",
         "rawType": "int64",
         "type": "integer"
        },
        {
         "name": "order_id",
         "rawType": "object",
         "type": "string"
        },
        {
         "name": "customer_id",
         "rawType": "object",
         "type": "string"
        },
        {
         "name": "order_status",
         "rawType": "object",
         "type": "string"
        },
        {
         "name": "order_purchase_timestamp",
         "rawType": "object",
         "type": "string"
        },
        {
         "name": "order_approved_at",
         "rawType": "object",
         "type": "string"
        },
        {
         "name": "order_delivered_carrier_date",
         "rawType": "object",
         "type": "string"
        },
        {
         "name": "order_delivered_customer_date",
         "rawType": "object",
         "type": "string"
        },
        {
         "name": "order_estimated_delivery_date",
         "rawType": "object",
         "type": "string"
        },
        {
         "name": "order_item_id",
         "rawType": "float64",
         "type": "float"
        },
        {
         "name": "product_id",
         "rawType": "object",
         "type": "string"
        },
        {
         "name": "seller_id",
         "rawType": "object",
         "type": "string"
        },
        {
         "name": "shipping_limit_date",
         "rawType": "object",
         "type": "string"
        },
        {
         "name": "price",
         "rawType": "float64",
         "type": "float"
        },
        {
         "name": "freight_value",
         "rawType": "float64",
         "type": "float"
        },
        {
         "name": "payment_sequential",
         "rawType": "float64",
         "type": "float"
        },
        {
         "name": "payment_type",
         "rawType": "object",
         "type": "string"
        },
        {
         "name": "payment_installments",
         "rawType": "float64",
         "type": "float"
        },
        {
         "name": "payment_value",
         "rawType": "float64",
         "type": "float"
        },
        {
         "name": "review_id",
         "rawType": "object",
         "type": "string"
        },
        {
         "name": "review_score",
         "rawType": "float64",
         "type": "float"
        },
        {
         "name": "review_comment_title",
         "rawType": "object",
         "type": "unknown"
        },
        {
         "name": "review_comment_message",
         "rawType": "object",
         "type": "unknown"
        },
        {
         "name": "review_creation_date",
         "rawType": "object",
         "type": "string"
        },
        {
         "name": "review_answer_timestamp",
         "rawType": "object",
         "type": "string"
        },
        {
         "name": "customer_unique_id",
         "rawType": "object",
         "type": "string"
        },
        {
         "name": "customer_zip_code_prefix",
         "rawType": "int64",
         "type": "integer"
        },
        {
         "name": "customer_city",
         "rawType": "object",
         "type": "string"
        },
        {
         "name": "customer_state",
         "rawType": "object",
         "type": "string"
        },
        {
         "name": "product_category_name",
         "rawType": "object",
         "type": "string"
        }
       ],
       "ref": "9209c7d9-b3af-454d-8816-965802293846",
       "rows": [
        [
         "0",
         "e481f51cbdc54678b7cc49136f2d6af7",
         "9ef432eb6251297304e76186b10a928d",
         "delivered",
         "2017-10-02 10:56:33",
         "2017-10-02 11:07:15",
         "2017-10-04 19:55:00",
         "2017-10-10 21:25:13",
         "2017-10-18 00:00:00",
         "1.0",
         "87285b34884572647811a353c7ac498a",
         "3504c0cb71d7fa48d967e0e4c94d59d9",
         "2017-10-06 11:07:15",
         "29.99",
         "8.72",
         "1.0",
         "credit_card",
         "1.0",
         "18.12",
         "a54f0611adc9ed256b57ede6b6eb5114",
         "4.0",
         null,
         "Não testei o produto ainda, mas ele veio correto e em boas condições. Apenas a caixa que veio bem amassada e danificada, o que ficará chato, pois se trata de um presente.",
         "2017-10-11 00:00:00",
         "2017-10-12 03:43:48",
         "7c396fd4830fd04220f754e42b4e5bff",
         "3149",
         "sao paulo",
         "SP",
         "utilidades_domesticas"
        ],
        [
         "1",
         "e481f51cbdc54678b7cc49136f2d6af7",
         "9ef432eb6251297304e76186b10a928d",
         "delivered",
         "2017-10-02 10:56:33",
         "2017-10-02 11:07:15",
         "2017-10-04 19:55:00",
         "2017-10-10 21:25:13",
         "2017-10-18 00:00:00",
         "1.0",
         "87285b34884572647811a353c7ac498a",
         "3504c0cb71d7fa48d967e0e4c94d59d9",
         "2017-10-06 11:07:15",
         "29.99",
         "8.72",
         "3.0",
         "voucher",
         "1.0",
         "2.0",
         "a54f0611adc9ed256b57ede6b6eb5114",
         "4.0",
         null,
         "Não testei o produto ainda, mas ele veio correto e em boas condições. Apenas a caixa que veio bem amassada e danificada, o que ficará chato, pois se trata de um presente.",
         "2017-10-11 00:00:00",
         "2017-10-12 03:43:48",
         "7c396fd4830fd04220f754e42b4e5bff",
         "3149",
         "sao paulo",
         "SP",
         "utilidades_domesticas"
        ],
        [
         "2",
         "e481f51cbdc54678b7cc49136f2d6af7",
         "9ef432eb6251297304e76186b10a928d",
         "delivered",
         "2017-10-02 10:56:33",
         "2017-10-02 11:07:15",
         "2017-10-04 19:55:00",
         "2017-10-10 21:25:13",
         "2017-10-18 00:00:00",
         "1.0",
         "87285b34884572647811a353c7ac498a",
         "3504c0cb71d7fa48d967e0e4c94d59d9",
         "2017-10-06 11:07:15",
         "29.99",
         "8.72",
         "2.0",
         "voucher",
         "1.0",
         "18.59",
         "a54f0611adc9ed256b57ede6b6eb5114",
         "4.0",
         null,
         "Não testei o produto ainda, mas ele veio correto e em boas condições. Apenas a caixa que veio bem amassada e danificada, o que ficará chato, pois se trata de um presente.",
         "2017-10-11 00:00:00",
         "2017-10-12 03:43:48",
         "7c396fd4830fd04220f754e42b4e5bff",
         "3149",
         "sao paulo",
         "SP",
         "utilidades_domesticas"
        ],
        [
         "3",
         "53cdb2fc8bc7dce0b6741e2150273451",
         "b0830fb4747a6c6d20dea0b8c802d7ef",
         "delivered",
         "2018-07-24 20:41:37",
         "2018-07-26 03:24:27",
         "2018-07-26 14:31:00",
         "2018-08-07 15:27:45",
         "2018-08-13 00:00:00",
         "1.0",
         "595fac2a385ac33a80bd5114aec74eb8",
         "289cdb325fb7e7f891c38608bf9e0962",
         "2018-07-30 03:24:27",
         "118.7",
         "22.76",
         "1.0",
         "boleto",
         "1.0",
         "141.46",
         "8d5266042046a06655c8db133d120ba5",
         "4.0",
         "Muito boa a loja",
         "Muito bom o produto.",
         "2018-08-08 00:00:00",
         "2018-08-08 18:37:50",
         "af07308b275d755c9edb36a90c618231",
         "47813",
         "barreiras",
         "BA",
         "perfumaria"
        ],
        [
         "4",
         "47770eb9100c2d0c44946d9cf07ec65d",
         "41ce2a54c0b03bf3443c3d931a367089",
         "delivered",
         "2018-08-08 08:38:49",
         "2018-08-08 08:55:23",
         "2018-08-08 13:50:00",
         "2018-08-17 18:06:29",
         "2018-09-04 00:00:00",
         "1.0",
         "aa4383b373c6aca5d8797843e5594415",
         "4869f7a5dfa277a7dca6462dcf3b52b2",
         "2018-08-13 08:55:23",
         "159.9",
         "19.22",
         "1.0",
         "credit_card",
         "3.0",
         "179.12",
         "e73b67b67587f7644d5bd1a52deb1b01",
         "5.0",
         null,
         null,
         "2018-08-18 00:00:00",
         "2018-08-22 19:07:58",
         "3a653a41f6f9fc3d2a113cf8398680e8",
         "75265",
         "vianopolis",
         "GO",
         "automotivo"
        ]
       ],
       "shape": {
        "columns": 29,
        "rows": 5
       }
      },
      "text/html": [
       "<div>\n",
       "<style scoped>\n",
       "    .dataframe tbody tr th:only-of-type {\n",
       "        vertical-align: middle;\n",
       "    }\n",
       "\n",
       "    .dataframe tbody tr th {\n",
       "        vertical-align: top;\n",
       "    }\n",
       "\n",
       "    .dataframe thead th {\n",
       "        text-align: right;\n",
       "    }\n",
       "</style>\n",
       "<table border=\"1\" class=\"dataframe\">\n",
       "  <thead>\n",
       "    <tr style=\"text-align: right;\">\n",
       "      <th></th>\n",
       "      <th>order_id</th>\n",
       "      <th>customer_id</th>\n",
       "      <th>order_status</th>\n",
       "      <th>order_purchase_timestamp</th>\n",
       "      <th>order_approved_at</th>\n",
       "      <th>order_delivered_carrier_date</th>\n",
       "      <th>order_delivered_customer_date</th>\n",
       "      <th>order_estimated_delivery_date</th>\n",
       "      <th>order_item_id</th>\n",
       "      <th>product_id</th>\n",
       "      <th>seller_id</th>\n",
       "      <th>shipping_limit_date</th>\n",
       "      <th>price</th>\n",
       "      <th>freight_value</th>\n",
       "      <th>payment_sequential</th>\n",
       "      <th>payment_type</th>\n",
       "      <th>payment_installments</th>\n",
       "      <th>payment_value</th>\n",
       "      <th>review_id</th>\n",
       "      <th>review_score</th>\n",
       "      <th>review_comment_title</th>\n",
       "      <th>review_comment_message</th>\n",
       "      <th>review_creation_date</th>\n",
       "      <th>review_answer_timestamp</th>\n",
       "      <th>customer_unique_id</th>\n",
       "      <th>customer_zip_code_prefix</th>\n",
       "      <th>customer_city</th>\n",
       "      <th>customer_state</th>\n",
       "      <th>product_category_name</th>\n",
       "    </tr>\n",
       "  </thead>\n",
       "  <tbody>\n",
       "    <tr>\n",
       "      <th>0</th>\n",
       "      <td>e481f51cbdc54678b7cc49136f2d6af7</td>\n",
       "      <td>9ef432eb6251297304e76186b10a928d</td>\n",
       "      <td>delivered</td>\n",
       "      <td>2017-10-02 10:56:33</td>\n",
       "      <td>2017-10-02 11:07:15</td>\n",
       "      <td>2017-10-04 19:55:00</td>\n",
       "      <td>2017-10-10 21:25:13</td>\n",
       "      <td>2017-10-18 00:00:00</td>\n",
       "      <td>1.0</td>\n",
       "      <td>87285b34884572647811a353c7ac498a</td>\n",
       "      <td>3504c0cb71d7fa48d967e0e4c94d59d9</td>\n",
       "      <td>2017-10-06 11:07:15</td>\n",
       "      <td>29.99</td>\n",
       "      <td>8.72</td>\n",
       "      <td>1.0</td>\n",
       "      <td>credit_card</td>\n",
       "      <td>1.0</td>\n",
       "      <td>18.12</td>\n",
       "      <td>a54f0611adc9ed256b57ede6b6eb5114</td>\n",
       "      <td>4.0</td>\n",
       "      <td>NaN</td>\n",
       "      <td>Não testei o produto ainda, mas ele veio corre...</td>\n",
       "      <td>2017-10-11 00:00:00</td>\n",
       "      <td>2017-10-12 03:43:48</td>\n",
       "      <td>7c396fd4830fd04220f754e42b4e5bff</td>\n",
       "      <td>3149</td>\n",
       "      <td>sao paulo</td>\n",
       "      <td>SP</td>\n",
       "      <td>utilidades_domesticas</td>\n",
       "    </tr>\n",
       "    <tr>\n",
       "      <th>1</th>\n",
       "      <td>e481f51cbdc54678b7cc49136f2d6af7</td>\n",
       "      <td>9ef432eb6251297304e76186b10a928d</td>\n",
       "      <td>delivered</td>\n",
       "      <td>2017-10-02 10:56:33</td>\n",
       "      <td>2017-10-02 11:07:15</td>\n",
       "      <td>2017-10-04 19:55:00</td>\n",
       "      <td>2017-10-10 21:25:13</td>\n",
       "      <td>2017-10-18 00:00:00</td>\n",
       "      <td>1.0</td>\n",
       "      <td>87285b34884572647811a353c7ac498a</td>\n",
       "      <td>3504c0cb71d7fa48d967e0e4c94d59d9</td>\n",
       "      <td>2017-10-06 11:07:15</td>\n",
       "      <td>29.99</td>\n",
       "      <td>8.72</td>\n",
       "      <td>3.0</td>\n",
       "      <td>voucher</td>\n",
       "      <td>1.0</td>\n",
       "      <td>2.00</td>\n",
       "      <td>a54f0611adc9ed256b57ede6b6eb5114</td>\n",
       "      <td>4.0</td>\n",
       "      <td>NaN</td>\n",
       "      <td>Não testei o produto ainda, mas ele veio corre...</td>\n",
       "      <td>2017-10-11 00:00:00</td>\n",
       "      <td>2017-10-12 03:43:48</td>\n",
       "      <td>7c396fd4830fd04220f754e42b4e5bff</td>\n",
       "      <td>3149</td>\n",
       "      <td>sao paulo</td>\n",
       "      <td>SP</td>\n",
       "      <td>utilidades_domesticas</td>\n",
       "    </tr>\n",
       "    <tr>\n",
       "      <th>2</th>\n",
       "      <td>e481f51cbdc54678b7cc49136f2d6af7</td>\n",
       "      <td>9ef432eb6251297304e76186b10a928d</td>\n",
       "      <td>delivered</td>\n",
       "      <td>2017-10-02 10:56:33</td>\n",
       "      <td>2017-10-02 11:07:15</td>\n",
       "      <td>2017-10-04 19:55:00</td>\n",
       "      <td>2017-10-10 21:25:13</td>\n",
       "      <td>2017-10-18 00:00:00</td>\n",
       "      <td>1.0</td>\n",
       "      <td>87285b34884572647811a353c7ac498a</td>\n",
       "      <td>3504c0cb71d7fa48d967e0e4c94d59d9</td>\n",
       "      <td>2017-10-06 11:07:15</td>\n",
       "      <td>29.99</td>\n",
       "      <td>8.72</td>\n",
       "      <td>2.0</td>\n",
       "      <td>voucher</td>\n",
       "      <td>1.0</td>\n",
       "      <td>18.59</td>\n",
       "      <td>a54f0611adc9ed256b57ede6b6eb5114</td>\n",
       "      <td>4.0</td>\n",
       "      <td>NaN</td>\n",
       "      <td>Não testei o produto ainda, mas ele veio corre...</td>\n",
       "      <td>2017-10-11 00:00:00</td>\n",
       "      <td>2017-10-12 03:43:48</td>\n",
       "      <td>7c396fd4830fd04220f754e42b4e5bff</td>\n",
       "      <td>3149</td>\n",
       "      <td>sao paulo</td>\n",
       "      <td>SP</td>\n",
       "      <td>utilidades_domesticas</td>\n",
       "    </tr>\n",
       "    <tr>\n",
       "      <th>3</th>\n",
       "      <td>53cdb2fc8bc7dce0b6741e2150273451</td>\n",
       "      <td>b0830fb4747a6c6d20dea0b8c802d7ef</td>\n",
       "      <td>delivered</td>\n",
       "      <td>2018-07-24 20:41:37</td>\n",
       "      <td>2018-07-26 03:24:27</td>\n",
       "      <td>2018-07-26 14:31:00</td>\n",
       "      <td>2018-08-07 15:27:45</td>\n",
       "      <td>2018-08-13 00:00:00</td>\n",
       "      <td>1.0</td>\n",
       "      <td>595fac2a385ac33a80bd5114aec74eb8</td>\n",
       "      <td>289cdb325fb7e7f891c38608bf9e0962</td>\n",
       "      <td>2018-07-30 03:24:27</td>\n",
       "      <td>118.70</td>\n",
       "      <td>22.76</td>\n",
       "      <td>1.0</td>\n",
       "      <td>boleto</td>\n",
       "      <td>1.0</td>\n",
       "      <td>141.46</td>\n",
       "      <td>8d5266042046a06655c8db133d120ba5</td>\n",
       "      <td>4.0</td>\n",
       "      <td>Muito boa a loja</td>\n",
       "      <td>Muito bom o produto.</td>\n",
       "      <td>2018-08-08 00:00:00</td>\n",
       "      <td>2018-08-08 18:37:50</td>\n",
       "      <td>af07308b275d755c9edb36a90c618231</td>\n",
       "      <td>47813</td>\n",
       "      <td>barreiras</td>\n",
       "      <td>BA</td>\n",
       "      <td>perfumaria</td>\n",
       "    </tr>\n",
       "    <tr>\n",
       "      <th>4</th>\n",
       "      <td>47770eb9100c2d0c44946d9cf07ec65d</td>\n",
       "      <td>41ce2a54c0b03bf3443c3d931a367089</td>\n",
       "      <td>delivered</td>\n",
       "      <td>2018-08-08 08:38:49</td>\n",
       "      <td>2018-08-08 08:55:23</td>\n",
       "      <td>2018-08-08 13:50:00</td>\n",
       "      <td>2018-08-17 18:06:29</td>\n",
       "      <td>2018-09-04 00:00:00</td>\n",
       "      <td>1.0</td>\n",
       "      <td>aa4383b373c6aca5d8797843e5594415</td>\n",
       "      <td>4869f7a5dfa277a7dca6462dcf3b52b2</td>\n",
       "      <td>2018-08-13 08:55:23</td>\n",
       "      <td>159.90</td>\n",
       "      <td>19.22</td>\n",
       "      <td>1.0</td>\n",
       "      <td>credit_card</td>\n",
       "      <td>3.0</td>\n",
       "      <td>179.12</td>\n",
       "      <td>e73b67b67587f7644d5bd1a52deb1b01</td>\n",
       "      <td>5.0</td>\n",
       "      <td>NaN</td>\n",
       "      <td>NaN</td>\n",
       "      <td>2018-08-18 00:00:00</td>\n",
       "      <td>2018-08-22 19:07:58</td>\n",
       "      <td>3a653a41f6f9fc3d2a113cf8398680e8</td>\n",
       "      <td>75265</td>\n",
       "      <td>vianopolis</td>\n",
       "      <td>GO</td>\n",
       "      <td>automotivo</td>\n",
       "    </tr>\n",
       "  </tbody>\n",
       "</table>\n",
       "</div>"
      ],
      "text/plain": [
       "                           order_id                       customer_id  \\\n",
       "0  e481f51cbdc54678b7cc49136f2d6af7  9ef432eb6251297304e76186b10a928d   \n",
       "1  e481f51cbdc54678b7cc49136f2d6af7  9ef432eb6251297304e76186b10a928d   \n",
       "2  e481f51cbdc54678b7cc49136f2d6af7  9ef432eb6251297304e76186b10a928d   \n",
       "3  53cdb2fc8bc7dce0b6741e2150273451  b0830fb4747a6c6d20dea0b8c802d7ef   \n",
       "4  47770eb9100c2d0c44946d9cf07ec65d  41ce2a54c0b03bf3443c3d931a367089   \n",
       "\n",
       "  order_status order_purchase_timestamp    order_approved_at  \\\n",
       "0    delivered      2017-10-02 10:56:33  2017-10-02 11:07:15   \n",
       "1    delivered      2017-10-02 10:56:33  2017-10-02 11:07:15   \n",
       "2    delivered      2017-10-02 10:56:33  2017-10-02 11:07:15   \n",
       "3    delivered      2018-07-24 20:41:37  2018-07-26 03:24:27   \n",
       "4    delivered      2018-08-08 08:38:49  2018-08-08 08:55:23   \n",
       "\n",
       "  order_delivered_carrier_date order_delivered_customer_date  \\\n",
       "0          2017-10-04 19:55:00           2017-10-10 21:25:13   \n",
       "1          2017-10-04 19:55:00           2017-10-10 21:25:13   \n",
       "2          2017-10-04 19:55:00           2017-10-10 21:25:13   \n",
       "3          2018-07-26 14:31:00           2018-08-07 15:27:45   \n",
       "4          2018-08-08 13:50:00           2018-08-17 18:06:29   \n",
       "\n",
       "  order_estimated_delivery_date  order_item_id  \\\n",
       "0           2017-10-18 00:00:00            1.0   \n",
       "1           2017-10-18 00:00:00            1.0   \n",
       "2           2017-10-18 00:00:00            1.0   \n",
       "3           2018-08-13 00:00:00            1.0   \n",
       "4           2018-09-04 00:00:00            1.0   \n",
       "\n",
       "                         product_id                         seller_id  \\\n",
       "0  87285b34884572647811a353c7ac498a  3504c0cb71d7fa48d967e0e4c94d59d9   \n",
       "1  87285b34884572647811a353c7ac498a  3504c0cb71d7fa48d967e0e4c94d59d9   \n",
       "2  87285b34884572647811a353c7ac498a  3504c0cb71d7fa48d967e0e4c94d59d9   \n",
       "3  595fac2a385ac33a80bd5114aec74eb8  289cdb325fb7e7f891c38608bf9e0962   \n",
       "4  aa4383b373c6aca5d8797843e5594415  4869f7a5dfa277a7dca6462dcf3b52b2   \n",
       "\n",
       "   shipping_limit_date   price  freight_value  payment_sequential  \\\n",
       "0  2017-10-06 11:07:15   29.99           8.72                 1.0   \n",
       "1  2017-10-06 11:07:15   29.99           8.72                 3.0   \n",
       "2  2017-10-06 11:07:15   29.99           8.72                 2.0   \n",
       "3  2018-07-30 03:24:27  118.70          22.76                 1.0   \n",
       "4  2018-08-13 08:55:23  159.90          19.22                 1.0   \n",
       "\n",
       "  payment_type  payment_installments  payment_value  \\\n",
       "0  credit_card                   1.0          18.12   \n",
       "1      voucher                   1.0           2.00   \n",
       "2      voucher                   1.0          18.59   \n",
       "3       boleto                   1.0         141.46   \n",
       "4  credit_card                   3.0         179.12   \n",
       "\n",
       "                          review_id  review_score review_comment_title  \\\n",
       "0  a54f0611adc9ed256b57ede6b6eb5114           4.0                  NaN   \n",
       "1  a54f0611adc9ed256b57ede6b6eb5114           4.0                  NaN   \n",
       "2  a54f0611adc9ed256b57ede6b6eb5114           4.0                  NaN   \n",
       "3  8d5266042046a06655c8db133d120ba5           4.0     Muito boa a loja   \n",
       "4  e73b67b67587f7644d5bd1a52deb1b01           5.0                  NaN   \n",
       "\n",
       "                              review_comment_message review_creation_date  \\\n",
       "0  Não testei o produto ainda, mas ele veio corre...  2017-10-11 00:00:00   \n",
       "1  Não testei o produto ainda, mas ele veio corre...  2017-10-11 00:00:00   \n",
       "2  Não testei o produto ainda, mas ele veio corre...  2017-10-11 00:00:00   \n",
       "3                               Muito bom o produto.  2018-08-08 00:00:00   \n",
       "4                                                NaN  2018-08-18 00:00:00   \n",
       "\n",
       "  review_answer_timestamp                customer_unique_id  \\\n",
       "0     2017-10-12 03:43:48  7c396fd4830fd04220f754e42b4e5bff   \n",
       "1     2017-10-12 03:43:48  7c396fd4830fd04220f754e42b4e5bff   \n",
       "2     2017-10-12 03:43:48  7c396fd4830fd04220f754e42b4e5bff   \n",
       "3     2018-08-08 18:37:50  af07308b275d755c9edb36a90c618231   \n",
       "4     2018-08-22 19:07:58  3a653a41f6f9fc3d2a113cf8398680e8   \n",
       "\n",
       "   customer_zip_code_prefix customer_city customer_state  \\\n",
       "0                      3149     sao paulo             SP   \n",
       "1                      3149     sao paulo             SP   \n",
       "2                      3149     sao paulo             SP   \n",
       "3                     47813     barreiras             BA   \n",
       "4                     75265    vianopolis             GO   \n",
       "\n",
       "   product_category_name  \n",
       "0  utilidades_domesticas  \n",
       "1  utilidades_domesticas  \n",
       "2  utilidades_domesticas  \n",
       "3             perfumaria  \n",
       "4             automotivo  "
      ]
     },
     "execution_count": 4,
     "metadata": {},
     "output_type": "execute_result"
    }
   ],
   "source": [
    "df.head()"
   ]
  },
  {
   "cell_type": "code",
   "execution_count": null,
   "id": "5f9a23f9",
   "metadata": {},
   "outputs": [
    {
     "name": "stdout",
     "output_type": "stream",
     "text": [
      "Numerical cols: ['order_item_id', 'price', 'freight_value', 'payment_sequential', 'payment_installments', 'payment_value', 'review_score', 'customer_zip_code_prefix']\n",
      "\n",
      "Categorical cols: ['order_id', 'customer_id', 'order_status', 'order_purchase_timestamp', 'order_approved_at', 'order_delivered_carrier_date', 'order_delivered_customer_date', 'order_estimated_delivery_date', 'product_id', 'seller_id', 'shipping_limit_date', 'payment_type', 'review_id', 'review_comment_title', 'review_comment_message', 'review_creation_date', 'review_answer_timestamp', 'customer_unique_id', 'customer_city', 'customer_state', 'product_category_name']\n"
     ]
    }
   ],
   "source": [
    "# Seperate data untuk melihat persebaran kolom kategorik&numeriknya\n",
    "num_cols = [col for col in df.columns if df[col].dtypes != 'O']\n",
    "cat_cols = [col for col in df.columns if df[col].dtypes == 'O']\n",
    "\n",
    "print(f'Numerical cols: {num_cols}\\n')\n",
    "print(f'Categorical cols: {cat_cols}')"
   ]
  },
  {
   "cell_type": "markdown",
   "id": "adba2207",
   "metadata": {},
   "source": [
    "## Data Cleansing 🧹"
   ]
  },
  {
   "cell_type": "code",
   "execution_count": null,
   "id": "8e16d19f",
   "metadata": {},
   "outputs": [
    {
     "data": {
      "text/plain": [
       "0"
      ]
     },
     "execution_count": 6,
     "metadata": {},
     "output_type": "execute_result"
    }
   ],
   "source": [
    "# melihat data duplikat\n",
    "df.duplicated().sum()"
   ]
  },
  {
   "cell_type": "code",
   "execution_count": null,
   "id": "09e989ec",
   "metadata": {},
   "outputs": [
    {
     "name": "stdout",
     "output_type": "stream",
     "text": [
      "Columns with missing values (sorted by percentage):\n",
      "review_comment_title             88.258647\n",
      "review_comment_message           57.827988\n",
      "order_delivered_customer_date     2.871339\n",
      "product_category_name             2.133571\n",
      "order_delivered_carrier_date      1.750837\n",
      "review_answer_timestamp           0.836810\n",
      "review_creation_date              0.836810\n",
      "review_id                         0.836810\n",
      "review_score                      0.836810\n",
      "order_item_id                     0.699160\n",
      "product_id                        0.699160\n",
      "seller_id                         0.699160\n",
      "shipping_limit_date               0.699160\n",
      "price                             0.699160\n",
      "freight_value                     0.699160\n",
      "order_approved_at                 0.148561\n",
      "payment_value                     0.002518\n",
      "payment_installments              0.002518\n",
      "payment_sequential                0.002518\n",
      "payment_type                      0.002518\n",
      "dtype: float64\n"
     ]
    }
   ],
   "source": [
    "df.isnull().sum() / len(df) * 100\n",
    "# ranking data null terbanyak\n",
    "percentage_missing = df.isnull().sum() / len(df) * 100\n",
    "missing_columns = percentage_missing[percentage_missing > 0].sort_values(ascending=False)\n",
    "print(\"Columns with missing values (sorted by percentage):\")\n",
    "print(missing_columns)"
   ]
  },
  {
   "cell_type": "code",
   "execution_count": 8,
   "id": "2d968bc9",
   "metadata": {},
   "outputs": [],
   "source": [
    "# Drop kolom dengan missing value > 50%\n",
    "drop_cols = ['review_comment_title', 'review_comment_message']\n",
    "df.drop(columns=drop_cols, inplace=True)"
   ]
  },
  {
   "cell_type": "code",
   "execution_count": null,
   "id": "a06049ff",
   "metadata": {},
   "outputs": [],
   "source": [
    "# Impute numerical menggunakan median\n",
    "num_cols = ['price', 'freight_value', 'payment_value', 'payment_installments']\n",
    "for col in num_cols:\n",
    "    df[col].fillna(df[col].median(), inplace=True)\n",
    "\n",
    "# Impute categorical mengunnnakan modus\n",
    "cat_cols = ['product_category_name', 'payment_type']\n",
    "for col in cat_cols:\n",
    "    df[col].fillna(df[col].mode()[0], inplace=True)\n",
    "\n",
    "# Impute review_score dkk (sisa minor missing) dengan Unkown\n",
    "minor_cols = ['review_score', 'review_id']\n",
    "for col in minor_cols:\n",
    "    df[col].fillna(\"unknown\", inplace=True)\n",
    "\n",
    "# Impute datetime dengan forward fill (logic untuk timestamp urutan waktu)\n",
    "datetime_cols = [\n",
    "    'order_approved_at', 'order_delivered_carrier_date',\n",
    "    'order_delivered_customer_date', 'review_creation_date',\n",
    "    'review_answer_timestamp'\n",
    "]\n",
    "for col in datetime_cols:\n",
    "    df[col] = pd.to_datetime(df[col])\n",
    "    df[col].fillna(method='ffill', inplace=True)"
   ]
  },
  {
   "cell_type": "code",
   "execution_count": 10,
   "id": "8e101ab3",
   "metadata": {},
   "outputs": [
    {
     "data": {
      "application/vnd.microsoft.datawrangler.viewer.v0+json": {
       "columns": [
        {
         "name": "index",
         "rawType": "object",
         "type": "string"
        },
        {
         "name": "0",
         "rawType": "int64",
         "type": "integer"
        }
       ],
       "ref": "6e468bc7-07df-417c-b82e-793502e35cd3",
       "rows": [
        [
         "order_id",
         "0"
        ],
        [
         "customer_id",
         "0"
        ],
        [
         "order_status",
         "0"
        ],
        [
         "order_purchase_timestamp",
         "0"
        ],
        [
         "order_approved_at",
         "0"
        ],
        [
         "order_delivered_carrier_date",
         "0"
        ],
        [
         "order_delivered_customer_date",
         "0"
        ],
        [
         "order_estimated_delivery_date",
         "0"
        ],
        [
         "order_item_id",
         "833"
        ],
        [
         "product_id",
         "833"
        ],
        [
         "seller_id",
         "833"
        ],
        [
         "shipping_limit_date",
         "833"
        ],
        [
         "price",
         "0"
        ],
        [
         "freight_value",
         "0"
        ],
        [
         "payment_sequential",
         "3"
        ],
        [
         "payment_type",
         "0"
        ],
        [
         "payment_installments",
         "0"
        ],
        [
         "payment_value",
         "0"
        ],
        [
         "review_id",
         "0"
        ],
        [
         "review_score",
         "0"
        ],
        [
         "review_creation_date",
         "0"
        ],
        [
         "review_answer_timestamp",
         "0"
        ],
        [
         "customer_unique_id",
         "0"
        ],
        [
         "customer_zip_code_prefix",
         "0"
        ],
        [
         "customer_city",
         "0"
        ],
        [
         "customer_state",
         "0"
        ],
        [
         "product_category_name",
         "0"
        ]
       ],
       "shape": {
        "columns": 1,
        "rows": 27
       }
      },
      "text/plain": [
       "order_id                           0\n",
       "customer_id                        0\n",
       "order_status                       0\n",
       "order_purchase_timestamp           0\n",
       "order_approved_at                  0\n",
       "order_delivered_carrier_date       0\n",
       "order_delivered_customer_date      0\n",
       "order_estimated_delivery_date      0\n",
       "order_item_id                    833\n",
       "product_id                       833\n",
       "seller_id                        833\n",
       "shipping_limit_date              833\n",
       "price                              0\n",
       "freight_value                      0\n",
       "payment_sequential                 3\n",
       "payment_type                       0\n",
       "payment_installments               0\n",
       "payment_value                      0\n",
       "review_id                          0\n",
       "review_score                       0\n",
       "review_creation_date               0\n",
       "review_answer_timestamp            0\n",
       "customer_unique_id                 0\n",
       "customer_zip_code_prefix           0\n",
       "customer_city                      0\n",
       "customer_state                     0\n",
       "product_category_name              0\n",
       "dtype: int64"
      ]
     },
     "execution_count": 10,
     "metadata": {},
     "output_type": "execute_result"
    }
   ],
   "source": [
    "# Recheck missing values\n",
    "df.isnull().sum()"
   ]
  },
  {
   "cell_type": "markdown",
   "id": "3b97eebd",
   "metadata": {},
   "source": [
    "masih ada 4 kolom dengan nilai null: order_item_id, product_id, seller_id, shipping_limit (nanti akan dihandle lagi)"
   ]
  },
  {
   "cell_type": "markdown",
   "id": "78bc582c",
   "metadata": {},
   "source": [
    "## Data standarization \n",
    "(convert from obj to datetime format)"
   ]
  },
  {
   "cell_type": "code",
   "execution_count": 11,
   "id": "6b652de0",
   "metadata": {},
   "outputs": [],
   "source": [
    "df['order_purchase_timestamp'] = pd.to_datetime(df['order_purchase_timestamp'])\n",
    "df['order_estimated_delivery_date'] = pd.to_datetime(df['order_estimated_delivery_date'])\n",
    "df['order_delivered_customer_date'] = pd.to_datetime(df['order_delivered_customer_date'])"
   ]
  },
  {
   "cell_type": "markdown",
   "id": "9b330f26",
   "metadata": {},
   "source": [
    "## Feature enrichment"
   ]
  },
  {
   "cell_type": "markdown",
   "id": "255d6f36",
   "metadata": {},
   "source": [
    "Disini saya akan menambahkan \n",
    "- group payment type yang terbagi menjadi tipe credit dan non credit \n",
    "- menambahkan fitur delivery time dalam hari dengan logic selisih waktu antara tanggal produk diterima pelanggan (delivered) dengan tanggal pemesanan (purchase)"
   ]
  },
  {
   "cell_type": "code",
   "execution_count": 21,
   "id": "ea092a6d",
   "metadata": {},
   "outputs": [],
   "source": [
    "df['payment_type_grouped'] = df['payment_type'].replace({\n",
    "    'credit_card': 'credit_card',\n",
    "    'boleto': 'non_credit',\n",
    "    'voucher': 'non_credit',\n",
    "    'debit_card': 'non_credit',\n",
    "    'not_defined': 'non_credit'\n",
    "})"
   ]
  },
  {
   "cell_type": "code",
   "execution_count": 13,
   "id": "8ffbcf01",
   "metadata": {},
   "outputs": [],
   "source": [
    "df['delivery_time_days'] = (df['order_delivered_customer_date'] - df['order_purchase_timestamp']).dt.days"
   ]
  },
  {
   "cell_type": "code",
   "execution_count": 14,
   "id": "77343072",
   "metadata": {},
   "outputs": [
    {
     "name": "stdout",
     "output_type": "stream",
     "text": [
      "count    119143.000000\n",
      "mean         13.686612\n",
      "std          39.998873\n",
      "min        -553.000000\n",
      "25%           6.000000\n",
      "50%          10.000000\n",
      "75%          15.000000\n",
      "max         692.000000\n",
      "Name: delivery_time_days, dtype: float64\n"
     ]
    }
   ],
   "source": [
    "print(df['delivery_time_days'].describe())"
   ]
  },
  {
   "cell_type": "code",
   "execution_count": 15,
   "id": "3de9e2d4",
   "metadata": {},
   "outputs": [
    {
     "data": {
      "text/plain": [
       "1393"
      ]
     },
     "execution_count": 15,
     "metadata": {},
     "output_type": "execute_result"
    }
   ],
   "source": [
    "len(df[df['delivery_time_days'] < 0])"
   ]
  },
  {
   "cell_type": "markdown",
   "id": "1744c14e",
   "metadata": {},
   "source": [
    "## Data standarization(again 🥹)"
   ]
  },
  {
   "cell_type": "markdown",
   "id": "70109240",
   "metadata": {},
   "source": [
    "Disini terdapat anomali dimana tidak mungkin waktu pengiriman bernilai negatif, `tidak mungkin kita pesen baju di tokopaedi hari ini, tapi sampainya minggu lalu😆😆`"
   ]
  },
  {
   "cell_type": "code",
   "execution_count": 16,
   "id": "ec4552fa",
   "metadata": {},
   "outputs": [],
   "source": [
    "median_delivery = df[df['delivery_time_days'] >= 0]['delivery_time_days'].median()\n",
    "\n",
    "mask = df['delivery_time_days'] < 0\n",
    "df.loc[mask, 'order_delivered_customer_date'] = df.loc[mask, 'order_purchase_timestamp'] + pd.to_timedelta(median_delivery, unit='D')\n",
    "\n",
    "# Recalculate delivery_time_days\n",
    "df['delivery_time_days'] = (df['order_delivered_customer_date'] - df['order_purchase_timestamp']).dt.days"
   ]
  },
  {
   "cell_type": "markdown",
   "id": "1f156170",
   "metadata": {},
   "source": [
    "sudah selesai saya standarisasi dengan menggunakan pendekatan median juga, hasilnya data akan normal seperti tabel dibawah"
   ]
  },
  {
   "cell_type": "code",
   "execution_count": 18,
   "id": "5f31ab88",
   "metadata": {},
   "outputs": [
    {
     "data": {
      "application/vnd.microsoft.datawrangler.viewer.v0+json": {
       "columns": [
        {
         "name": "index",
         "rawType": "object",
         "type": "string"
        },
        {
         "name": "delivery_time_days",
         "rawType": "float64",
         "type": "float"
        }
       ],
       "ref": "b9e2d884-79a3-43a2-a9f8-77028719dc60",
       "rows": [
        [
         "count",
         "119143.0"
        ],
        [
         "mean",
         "15.454411925165557"
        ],
        [
         "std",
         "34.08272491459022"
        ],
        [
         "min",
         "0.0"
        ],
        [
         "25%",
         "6.0"
        ],
        [
         "50%",
         "10.0"
        ],
        [
         "75%",
         "15.0"
        ],
        [
         "max",
         "692.0"
        ]
       ],
       "shape": {
        "columns": 1,
        "rows": 8
       }
      },
      "text/plain": [
       "count    119143.000000\n",
       "mean         15.454412\n",
       "std          34.082725\n",
       "min           0.000000\n",
       "25%           6.000000\n",
       "50%          10.000000\n",
       "75%          15.000000\n",
       "max         692.000000\n",
       "Name: delivery_time_days, dtype: float64"
      ]
     },
     "execution_count": 18,
     "metadata": {},
     "output_type": "execute_result"
    }
   ],
   "source": [
    "df['delivery_time_days'].describe()"
   ]
  },
  {
   "cell_type": "markdown",
   "id": "ca5755fb",
   "metadata": {},
   "source": [
    "## Rehandling missing value"
   ]
  },
  {
   "cell_type": "markdown",
   "id": "b32194d8",
   "metadata": {},
   "source": [
    "karena terdapat 4 fitur yang masih memiliki nilai null, disini saya akan menlakukan handling ulang"
   ]
  },
  {
   "cell_type": "code",
   "execution_count": 22,
   "id": "0f99b7c7",
   "metadata": {},
   "outputs": [
    {
     "data": {
      "application/vnd.microsoft.datawrangler.viewer.v0+json": {
       "columns": [
        {
         "name": "index",
         "rawType": "object",
         "type": "string"
        },
        {
         "name": "0",
         "rawType": "int64",
         "type": "integer"
        }
       ],
       "ref": "867fa251-4a0f-424e-b342-5a7d58ad232c",
       "rows": [
        [
         "order_id",
         "0"
        ],
        [
         "customer_id",
         "0"
        ],
        [
         "order_status",
         "0"
        ],
        [
         "order_purchase_timestamp",
         "0"
        ],
        [
         "order_approved_at",
         "0"
        ],
        [
         "order_delivered_carrier_date",
         "0"
        ],
        [
         "order_delivered_customer_date",
         "0"
        ],
        [
         "order_estimated_delivery_date",
         "0"
        ],
        [
         "order_item_id",
         "833"
        ],
        [
         "product_id",
         "833"
        ],
        [
         "seller_id",
         "833"
        ],
        [
         "shipping_limit_date",
         "833"
        ],
        [
         "price",
         "0"
        ],
        [
         "freight_value",
         "0"
        ],
        [
         "payment_sequential",
         "3"
        ],
        [
         "payment_type",
         "0"
        ],
        [
         "payment_installments",
         "0"
        ],
        [
         "payment_value",
         "0"
        ],
        [
         "review_id",
         "0"
        ],
        [
         "review_score",
         "0"
        ],
        [
         "review_creation_date",
         "0"
        ],
        [
         "review_answer_timestamp",
         "0"
        ],
        [
         "customer_unique_id",
         "0"
        ],
        [
         "customer_zip_code_prefix",
         "0"
        ],
        [
         "customer_city",
         "0"
        ],
        [
         "customer_state",
         "0"
        ],
        [
         "product_category_name",
         "0"
        ],
        [
         "delivery_time_days",
         "0"
        ],
        [
         "payment_type_grouped",
         "0"
        ]
       ],
       "shape": {
        "columns": 1,
        "rows": 29
       }
      },
      "text/plain": [
       "order_id                           0\n",
       "customer_id                        0\n",
       "order_status                       0\n",
       "order_purchase_timestamp           0\n",
       "order_approved_at                  0\n",
       "order_delivered_carrier_date       0\n",
       "order_delivered_customer_date      0\n",
       "order_estimated_delivery_date      0\n",
       "order_item_id                    833\n",
       "product_id                       833\n",
       "seller_id                        833\n",
       "shipping_limit_date              833\n",
       "price                              0\n",
       "freight_value                      0\n",
       "payment_sequential                 3\n",
       "payment_type                       0\n",
       "payment_installments               0\n",
       "payment_value                      0\n",
       "review_id                          0\n",
       "review_score                       0\n",
       "review_creation_date               0\n",
       "review_answer_timestamp            0\n",
       "customer_unique_id                 0\n",
       "customer_zip_code_prefix           0\n",
       "customer_city                      0\n",
       "customer_state                     0\n",
       "product_category_name              0\n",
       "delivery_time_days                 0\n",
       "payment_type_grouped               0\n",
       "dtype: int64"
      ]
     },
     "execution_count": 22,
     "metadata": {},
     "output_type": "execute_result"
    }
   ],
   "source": [
    "df.isnull().sum()"
   ]
  },
  {
   "cell_type": "code",
   "execution_count": 23,
   "id": "16ab9410",
   "metadata": {},
   "outputs": [],
   "source": [
    "df['product_id'].fillna('unknown', inplace=True)\n",
    "df['seller_id'].fillna('unknown', inplace=True)"
   ]
  },
  {
   "cell_type": "code",
   "execution_count": 24,
   "id": "fce9c146",
   "metadata": {},
   "outputs": [],
   "source": [
    "df['order_item_id'].fillna(1.0, inplace=True)\n",
    "df['order_item_id'] = df['order_item_id'].astype(int)"
   ]
  },
  {
   "cell_type": "code",
   "execution_count": 25,
   "id": "3236719a",
   "metadata": {},
   "outputs": [],
   "source": [
    "df['shipping_limit_date'].fillna(method='bfill', inplace=True)"
   ]
  },
  {
   "cell_type": "markdown",
   "id": "ff31ff4f",
   "metadata": {},
   "source": [
    "*Menggunakan bfill karena asumsi bahwa pesanan berikutnya punya pola pengiriman yang mirip (misal: seller sama, metode pengiriman sama)"
   ]
  },
  {
   "cell_type": "markdown",
   "id": "4572b675",
   "metadata": {},
   "source": [
    "## Final Data Validation 🏁\n",
    "Rechecking the missing values"
   ]
  },
  {
   "cell_type": "code",
   "execution_count": 36,
   "id": "5a51ba58",
   "metadata": {},
   "outputs": [
    {
     "data": {
      "application/vnd.microsoft.datawrangler.viewer.v0+json": {
       "columns": [
        {
         "name": "index",
         "rawType": "object",
         "type": "string"
        },
        {
         "name": "0",
         "rawType": "int64",
         "type": "integer"
        }
       ],
       "ref": "6b194e22-0f59-4c51-93da-1ea09d012171",
       "rows": [
        [
         "order_id",
         "0"
        ],
        [
         "customer_id",
         "0"
        ],
        [
         "order_status",
         "0"
        ],
        [
         "order_purchase_timestamp",
         "0"
        ],
        [
         "order_approved_at",
         "0"
        ],
        [
         "order_delivered_carrier_date",
         "0"
        ],
        [
         "order_delivered_customer_date",
         "0"
        ],
        [
         "order_estimated_delivery_date",
         "0"
        ],
        [
         "order_item_id",
         "0"
        ],
        [
         "product_id",
         "0"
        ],
        [
         "seller_id",
         "0"
        ],
        [
         "shipping_limit_date",
         "0"
        ],
        [
         "price",
         "0"
        ],
        [
         "freight_value",
         "0"
        ],
        [
         "payment_sequential",
         "0"
        ],
        [
         "payment_type",
         "0"
        ],
        [
         "payment_installments",
         "0"
        ],
        [
         "payment_value",
         "0"
        ],
        [
         "review_id",
         "0"
        ],
        [
         "review_score",
         "0"
        ],
        [
         "review_creation_date",
         "0"
        ],
        [
         "review_answer_timestamp",
         "0"
        ],
        [
         "customer_unique_id",
         "0"
        ],
        [
         "customer_zip_code_prefix",
         "0"
        ],
        [
         "customer_city",
         "0"
        ],
        [
         "customer_state",
         "0"
        ],
        [
         "product_category_name",
         "0"
        ],
        [
         "delivery_time_days",
         "0"
        ],
        [
         "payment_type_grouped",
         "0"
        ]
       ],
       "shape": {
        "columns": 1,
        "rows": 29
       }
      },
      "text/plain": [
       "order_id                         0\n",
       "customer_id                      0\n",
       "order_status                     0\n",
       "order_purchase_timestamp         0\n",
       "order_approved_at                0\n",
       "order_delivered_carrier_date     0\n",
       "order_delivered_customer_date    0\n",
       "order_estimated_delivery_date    0\n",
       "order_item_id                    0\n",
       "product_id                       0\n",
       "seller_id                        0\n",
       "shipping_limit_date              0\n",
       "price                            0\n",
       "freight_value                    0\n",
       "payment_sequential               0\n",
       "payment_type                     0\n",
       "payment_installments             0\n",
       "payment_value                    0\n",
       "review_id                        0\n",
       "review_score                     0\n",
       "review_creation_date             0\n",
       "review_answer_timestamp          0\n",
       "customer_unique_id               0\n",
       "customer_zip_code_prefix         0\n",
       "customer_city                    0\n",
       "customer_state                   0\n",
       "product_category_name            0\n",
       "delivery_time_days               0\n",
       "payment_type_grouped             0\n",
       "dtype: int64"
      ]
     },
     "execution_count": 36,
     "metadata": {},
     "output_type": "execute_result"
    }
   ],
   "source": [
    "df.isnull().sum()"
   ]
  },
  {
   "cell_type": "markdown",
   "id": "587dcec6",
   "metadata": {},
   "source": [
    "#### All is clean dan logicnya sudah sesuai ✨"
   ]
  }
 ],
 "metadata": {
  "kernelspec": {
   "display_name": "env_ridwan_1",
   "language": "python",
   "name": "python3"
  },
  "language_info": {
   "codemirror_mode": {
    "name": "ipython",
    "version": 3
   },
   "file_extension": ".py",
   "mimetype": "text/x-python",
   "name": "python",
   "nbconvert_exporter": "python",
   "pygments_lexer": "ipython3",
   "version": "3.10.13"
  }
 },
 "nbformat": 4,
 "nbformat_minor": 5
}
